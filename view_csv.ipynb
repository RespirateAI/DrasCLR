{
 "cells": [
  {
   "cell_type": "code",
   "execution_count": 1,
   "metadata": {},
   "outputs": [],
   "source": [
    "import csv\n",
    "import matplotlib.pyplot as plt\n",
    "from PIL import Image, ImageDraw\n",
    "\n",
    "\n",
    "# Function to process the CSV file and create the image\n",
    "def show_image(csv_file, z_dim):\n",
    "    # Set image size\n",
    "    image_size = (512, 512)\n",
    "\n",
    "    # Create a black image\n",
    "    img = Image.new(\"RGB\", image_size, \"black\")\n",
    "    draw = ImageDraw.Draw(img)\n",
    "\n",
    "    # Read CSV file and draw on the image\n",
    "    with open(csv_file, \"r\") as csvfile:\n",
    "        csv_reader = csv.reader(csvfile)\n",
    "        for row in csv_reader:\n",
    "            x, y, z = map(int, row)\n",
    "\n",
    "            if z != z_dim:\n",
    "                continue\n",
    "            # Draw a white rectangle centered at the specified coordinates\n",
    "            draw.rectangle([(x, y), (x + 32, y + 32)], outline=\"white\", fill=\"white\")\n",
    "\n",
    "    # Convert PIL image to NumPy array for matplotlib\n",
    "    plt.imshow(img)\n",
    "\n",
    "    # Show the image using matplotlib\n",
    "    plt.show()\n"
   ]
  },
  {
   "cell_type": "code",
   "execution_count": 9,
   "metadata": {},
   "outputs": [
    {
     "data": {
      "image/png": "[encoded data removed]",
      "text/plain": [
       "<Figure size 640x480 with 1 Axes>"
      ]
     },
     "metadata": {},
     "output_type": "display_data"
    }
   ],
   "source": [
    "csv_file_path = \"preprocess/patch_loc.csv\"\n",
    "z = 260\n",
    "show_image(csv_file_path, z)"
   ]
  },
  {
   "cell_type": "code",
   "execution_count": null,
   "metadata": {},
   "outputs": [],
   "source": []
  }
 ],
 "metadata": {
  "kernelspec": {
   "display_name": "fyp",
   "language": "python",
   "name": "python3"
  },
  "language_info": {
   "codemirror_mode": {
    "name": "ipython",
    "version": 3
   },
   "file_extension": ".py",
   "mimetype": "text/x-python",
   "name": "python",
   "nbconvert_exporter": "python",
   "pygments_lexer": "ipython3",
   "version": "3.10.12"
  }
 },
 "nbformat": 4,
 "nbformat_minor": 2
}
